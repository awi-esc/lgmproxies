{
 "cells": [
  {
   "cell_type": "code",
   "execution_count": null,
   "id": "0",
   "metadata": {},
   "outputs": [],
   "source": [
    "%load_ext autoreload\n",
    "%autoreload 2"
   ]
  },
  {
   "cell_type": "code",
   "execution_count": null,
   "id": "1",
   "metadata": {},
   "outputs": [],
   "source": [
    "import matplotlib.pyplot as plt\n",
    "%matplotlib inline"
   ]
  },
  {
   "cell_type": "code",
   "execution_count": null,
   "id": "2",
   "metadata": {},
   "outputs": [],
   "source": [
    "figdir = \"../images/\""
   ]
  },
  {
   "cell_type": "code",
   "execution_count": null,
   "id": "3",
   "metadata": {},
   "outputs": [],
   "source": [
    "# import bayfox\n",
    "# import erebusfall\n",
    "# from lgmproxies.datasets.tierney import TIERNEY_REPOS\n",
    "# TIERNEY_REPOS\n",
    "import pandas as pd\n",
    "from lgmproxies.datasets.tierney import get_repo_path\n",
    "proxydata = get_repo_path(\"jesstierney/lgmDA\")/\"proxyData\"\n",
    "! ls {proxydata}\n",
    "df = pd.read_csv(proxydata/\"Tierney2020_ProxyDataPaired.csv\")\n",
    "df\n",
    "# get_repo_path"
   ]
  },
  {
   "cell_type": "code",
   "execution_count": null,
   "id": "4",
   "metadata": {},
   "outputs": [],
   "source": [
    "lh = pd.read_csv(proxydata/\"Tierney2020_LHProxyData.csv\")\n",
    "lgm = pd.read_csv(proxydata/\"Tierney2020_LGMProxyData.csv\")\n",
    "\n",
    "color_map = {\n",
    "    \"delo\": \"tab:blue\",\n",
    "    \"mg\": \"tab:orange\",\n",
    "    \"tex\": \"tab:green\",\n",
    "    \"uk\": \"tab:red\"\n",
    "}\n",
    "\n",
    "marker_map = {\n",
    "    \"bulloides\": \"o\",\n",
    "    \"incompta\": \"s\",\n",
    "    \"pachy\": \"^\",\n",
    "    \"ruber\": \"D\",\n",
    "    \"sacculifer\": \"v\",\n",
    "    \"nan\": \"X\"\n",
    "}\n",
    "\n",
    "f, axes = plt.subplots(1, 2, figsize=(12, 6), sharex=True, sharey=True)\n",
    "\n",
    "\n",
    "for ax, df in zip(axes.flat, [lh, lgm]):\n",
    "    for proxytype in sorted(df[\"ProxyType\"].unique()):\n",
    "        df_proxy = df[df[\"ProxyType\"] == proxytype]\n",
    "        for species in sorted(df_proxy[\"Species\"].unique(), key=lambda x: str(x)):\n",
    "            if pd.isna(species):\n",
    "                species_key = \"nan\"\n",
    "                df_species = df_proxy[df_proxy[\"Species\"].isna()]\n",
    "                label = f\"{proxytype}\"\n",
    "            else:\n",
    "                species_key = species\n",
    "                df_species = df_proxy[df_proxy[\"Species\"] == species]\n",
    "                label = f\"{proxytype} ({species})\"\n",
    "            if len(df_species) > 0:\n",
    "                ax.scatter(\n",
    "                    df_species[\"ProxyValue\"], df_species[\"SSTMedian\"],\n",
    "                    label=label,\n",
    "                    color=color_map.get(proxytype, \"gray\"),\n",
    "                    marker=marker_map.get(species_key, \"x\"),\n",
    "                    alpha=0.6,\n",
    "                    edgecolor=\"black\",\n",
    "                    linewidth=0.5\n",
    "                )\n",
    "\n",
    "    ax.set_xlabel(\"Proxy Value\")\n",
    "    if ax == axes[0]:\n",
    "        ax.set_ylabel(\"SST Median (°C)\")\n",
    "    ax.set_title(\"LGM Proxies\" if ax == axes[1] else \"LH Proxies\")\n",
    "    ax.grid(True)\n",
    "    # only show legend for the last subplot\n",
    "    if ax == axes[-1]:\n",
    "        ax.legend(loc=\"upper left\", bbox_to_anchor=(1, 1), fontsize='small')\n",
    "\n",
    "plt.tight_layout()\n",
    "plt.savefig(figdir+\"tierney_calibration.png\", dpi=300, bbox_inches='tight')"
   ]
  }
 ],
 "metadata": {
  "kernelspec": {
   "display_name": ".venv",
   "language": "python",
   "name": "python3"
  },
  "language_info": {
   "codemirror_mode": {
    "name": "ipython",
    "version": 3
   },
   "file_extension": ".py",
   "mimetype": "text/x-python",
   "name": "python",
   "nbconvert_exporter": "python",
   "pygments_lexer": "ipython3",
   "version": "3.12.3"
  }
 },
 "nbformat": 4,
 "nbformat_minor": 5
}
