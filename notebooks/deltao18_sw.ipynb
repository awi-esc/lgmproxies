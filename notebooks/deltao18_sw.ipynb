{
 "cells": [
  {
   "cell_type": "markdown",
   "id": "0",
   "metadata": {},
   "source": [
    "Estimate deltaO18_sw from the data"
   ]
  },
  {
   "cell_type": "code",
   "execution_count": null,
   "id": "1",
   "metadata": {},
   "outputs": [],
   "source": [
    "%load_ext autoreload\n",
    "%autoreload 2"
   ]
  },
  {
   "cell_type": "code",
   "execution_count": null,
   "id": "2",
   "metadata": {},
   "outputs": [],
   "source": [
    "%matplotlib"
   ]
  },
  {
   "cell_type": "code",
   "execution_count": null,
   "id": "3",
   "metadata": {},
   "outputs": [],
   "source": [
    "import numpy as np\n",
    "import matplotlib.pyplot as plt\n",
    "import pandas as pd\n",
    "import pymc as pm"
   ]
  },
  {
   "cell_type": "code",
   "execution_count": null,
   "id": "4",
   "metadata": {},
   "outputs": [],
   "source": [
    "from lgmproxies.datasets.tierney import get_repo_path\n",
    "repo = get_repo_path(\"brews/d18oc_sst\")"
   ]
  },
  {
   "cell_type": "code",
   "execution_count": null,
   "id": "5",
   "metadata": {},
   "outputs": [],
   "source": [
    "coretops_raw = pd.read_csv(repo/\"data/parsed/coretops.csv\")\n",
    "coretops_grid = pd.read_csv(repo/\"data/parsed/coretops_grid.csv\")"
   ]
  },
  {
   "cell_type": "code",
   "execution_count": null,
   "id": "6",
   "metadata": {},
   "outputs": [],
   "source": [
    "coretops_raw['foramtype'] = coretops_raw['species'].astype('category')\n",
    "coretops_grid['foramtype'] = coretops_grid['species'].astype('category')"
   ]
  },
  {
   "cell_type": "code",
   "execution_count": null,
   "id": "7",
   "metadata": {},
   "outputs": [],
   "source": [
    "from lgmproxies.datasets.naturalearth import add_coast\n",
    "\n",
    "fig, axes = plt.subplots(2, 1, figsize=(10, 10))\n",
    "\n",
    "axes[0].scatter(coretops_raw.gridlon, coretops_raw.gridlat,c=coretops_raw.foramtype.cat.codes,s=1)\n",
    "add_coast(ax=axes[0])\n",
    "axes[0].set_title(\"Coretops Raw Data\")\n",
    "axes[1].scatter(coretops_grid.gridlon, coretops_grid.gridlat,c=coretops_grid.foramtype.cat.codes,s=1)\n",
    "add_coast(ax=axes[1])\n",
    "axes[1].set_title(\"Coretops Grid Data\")"
   ]
  },
  {
   "cell_type": "code",
   "execution_count": null,
   "id": "8",
   "metadata": {},
   "outputs": [],
   "source": [
    "coretops_raw"
   ]
  },
  {
   "cell_type": "code",
   "execution_count": null,
   "id": "9",
   "metadata": {},
   "outputs": [],
   "source": [
    "coretops_grid"
   ]
  },
  {
   "cell_type": "code",
   "execution_count": null,
   "id": "10",
   "metadata": {},
   "outputs": [],
   "source": [
    "fig, axes = plt.subplots(1, 2, figsize=(10, 5))\n",
    "ax = axes[0]\n",
    "ax.hist(coretops_raw.gridlon, label='Raw', alpha=0.5, bins=50)\n",
    "ax.hist(coretops_grid.gridlon, label='Grid', alpha=0.5, bins=50)\n",
    "# ax.scatter(coretops_raw.gridlon, coretops_grid.gridlon)\n",
    "ax.set_xlabel(\"Longitude\")\n",
    "ax.set_ylabel(\"Count\")\n",
    "ax.legend()\n",
    "ax = axes[1]\n",
    "ax.hist(coretops_raw.gridlat, label='Raw', alpha=0.5, bins=50)\n",
    "ax.hist(coretops_grid.gridlat, label='Grid', alpha=0.5, bins=50)\n",
    "# ax.scatter(coretops_raw.gridlat, coretops_grid.gridlat)\n",
    "ax.set_xlabel(\"Latitude\")\n",
    "ax.set_ylabel(\"Count\")\n",
    "ax.legend()\n",
    "fig.tight_layout()"
   ]
  },
  {
   "cell_type": "code",
   "execution_count": null,
   "id": "11",
   "metadata": {},
   "outputs": [],
   "source": [
    "from lgmproxies.datasets.naturalearth import add_coast\n",
    "\n",
    "fig, ax = plt.subplots(1, 1, figsize=(10, 5))\n",
    "\n",
    "df = coretops_raw\n",
    "h = ax.scatter(df.gridlon, df.gridlat,\n",
    "    c=df.d18osw,s=1)\n",
    "add_coast(ax=ax)\n",
    "ax.set_title(\"Coretops Raw Data\")\n",
    "plt.colorbar(h, ax=ax, label='d18O seawater (per mil)')"
   ]
  },
  {
   "cell_type": "code",
   "execution_count": null,
   "id": "12",
   "metadata": {},
   "outputs": [],
   "source": [
    "from lgmproxies.gaskell_hull2023 import convert_d18o_df\n",
    "\n",
    "input_df = coretops_raw[[\"gridlat\", \"gridlon\", \"d18oc\"]].rename(\n",
    "    columns={\n",
    "        \"gridlat\": \"lat\",\n",
    "        \"gridlon\": \"long\",\n",
    "        \"d18oc\": \"d18O\"\n",
    "    }\n",
    ")\n",
    "input_df[\"age\"] = 0 * 1e-6  # Convert to Ma\n",
    "chunk_size = len(input_df) // 5\n",
    "chunks = [input_df.iloc[i:i+chunk_size] for i in range(0, len(input_df), chunk_size)]\n",
    "coretops_gh23 = pd.concat(\n",
    "    [convert_d18o_df(chunk) for chunk in chunks],\n",
    ")\n",
    "coretops_gh23"
   ]
  },
  {
   "cell_type": "code",
   "execution_count": null,
   "id": "13",
   "metadata": {},
   "outputs": [],
   "source": [
    "fig, axes = plt.subplots(1, 2, figsize=(10, 5))\n",
    "\n",
    "ax = axes[0]\n",
    "# h = ax.scatter(coretops_raw.d18osw.values, coretops_gh23.d18Osw_spatial.values, s=1)\n",
    "h = ax.scatter(coretops_raw.d18osw.values, (\n",
    "    coretops_gh23.d18Osw_spatial.values +\n",
    "    coretops_gh23.d18Osw_global.values\n",
    "    ), s=1)\n",
    "ax.set_aspect('equal')\n",
    "xlim = ax.get_xlim()\n",
    "ax.plot(xlim, xlim, 'k--', label='y=x')\n",
    "ax.set_title(\"d18O seawater (per mil)\")\n",
    "ax.set_xlabel(\"brews/d18oc_sst\")\n",
    "ax.set_ylabel(\"Gaskell and Hull 2023\")\n",
    "\n",
    "\n",
    "ax = axes[1]\n",
    "h = ax.scatter(coretops_raw.t_annual.values, (\n",
    "    coretops_gh23.temp.values\n",
    "    ), s=1)\n",
    "ax.set_aspect('equal')\n",
    "xlim = ax.get_xlim()\n",
    "ax.plot(xlim, xlim, 'k--', label='y=x')\n",
    "ax.set_title(\"Annual SST (C)\")\n",
    "ax.set_xlabel(\"brews/d18oc_sst\")\n",
    "ax.set_ylabel(\"Gaskell and Hull 2023\")\n",
    "fig.tight_layout()\n",
    "fig.savefig(\"../images/d18osw_comparison_scatter.png\", dpi=300)"
   ]
  },
  {
   "cell_type": "code",
   "execution_count": null,
   "id": "14",
   "metadata": {},
   "outputs": [],
   "source": [
    "from lgmproxies.datasets.naturalearth import add_coast\n",
    "\n",
    "fig, axes = plt.subplots(2, 1, figsize=(10, 10))\n",
    "\n",
    "df = coretops_raw\n",
    "\n",
    "ax = axes[1]\n",
    "h = ax.scatter(df.gridlon, df.gridlat,\n",
    "    c=coretops_gh23.d18Osw_spatial.values,s=1,\n",
    "    vmin=coretops_raw.d18osw.min(), vmax=coretops_raw.d18osw.max())\n",
    "add_coast(ax=ax)\n",
    "ax.set_title(\"brews/d18oc_sst (d18o+lat+age=0) -> Gaskell and Hull 2023\")\n",
    "plt.colorbar(h, ax=ax, label='d18O seawater (per mil)')\n",
    "\n",
    "ax = axes[0]\n",
    "h = ax.scatter(df.gridlon, df.gridlat,\n",
    "    c=df.d18osw,s=1,\n",
    "    vmin=coretops_raw.d18osw.min(), vmax=coretops_raw.d18osw.max())\n",
    "add_coast(ax=ax)\n",
    "ax.set_title(\"Coretops Raw Data (brews/d18oc_sst)\")\n",
    "plt.colorbar(h, ax=ax, label='d18O seawater (per mil)')\n",
    "\n",
    "fig.tight_layout()\n",
    "fig.savefig(\"../images/d18osw_comparison.png\", dpi=300)"
   ]
  }
 ],
 "metadata": {
  "kernelspec": {
   "display_name": ".venv",
   "language": "python",
   "name": "python3"
  },
  "language_info": {
   "codemirror_mode": {
    "name": "ipython",
    "version": 3
   },
   "file_extension": ".py",
   "mimetype": "text/x-python",
   "name": "python",
   "nbconvert_exporter": "python",
   "pygments_lexer": "ipython3",
   "version": "3.12.3"
  }
 },
 "nbformat": 4,
 "nbformat_minor": 5
}
